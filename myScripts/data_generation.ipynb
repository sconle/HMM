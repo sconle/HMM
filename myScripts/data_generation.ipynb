{
 "cells": [
  {
   "cell_type": "code",
   "execution_count": 26,
   "metadata": {},
   "outputs": [
    {
     "name": "stdout",
     "output_type": "stream",
     "text": [
      "Importing librairies ... done\n"
     ]
    }
   ],
   "source": [
    "### import librairies ###\n",
    "print(f\"Importing librairies ... \", end='')\n",
    "import sys\n",
    "sys.path.append(r\"C:\\Users\\valentin\\Documents\\HMM\")\n",
    "import numpy as np\n",
    "from myHmmPackage.cluster_decoder import ClusterDecoder\n",
    "from sklearn.metrics import r2_score, mean_squared_error, mean_absolute_percentage_error\n",
    "import matplotlib.pyplot as plt\n",
    "print('done')"
   ]
  },
  {
   "cell_type": "code",
   "execution_count": 9,
   "metadata": {},
   "outputs": [],
   "source": [
    "### data ###\n",
    "n_samples = 100 #n_trials\n",
    "n_time_points = 102\n",
    "n_regions = 2 #IC ou region ou electrod ou channels\n",
    "n_label_features = 48 \n",
    "n_clusters = 4 # n_clusters"
   ]
  },
  {
   "cell_type": "code",
   "execution_count": 78,
   "metadata": {},
   "outputs": [
    {
     "name": "stdout",
     "output_type": "stream",
     "text": [
      "[  0  74  83  88 101 102]\n"
     ]
    }
   ],
   "source": [
    "y = (np.random.randint(100, size=(n_samples, n_time_points, n_label_features)) == 0).astype(int)\n",
    "# eps\n",
    "X = np.random.randint(100,size=(n_samples, n_time_points, n_regions))\n",
    "\n",
    "W = np.random.randint(low=-10, high=10,size=(n_clusters, n_regions, n_label_features))\n",
    "W_temp = np.reshape(W, newshape=(n_regions, n_clusters, n_label_features))\n",
    "\n",
    "gamma_transition = np.random.randint(n_time_points,size=(n_clusters))\n",
    "gamma_transition = np.concatenate(([0],np.sort(gamma_transition),[n_time_points]))\n",
    "\n",
    "gamma = np.random.randint(2, size=(n_time_points,n_clusters))\n",
    "gamma = np.array([[1 if (gamma_transition[(j)] <= i) and (i < gamma_transition[(j+1)]) else 0 for i in range(n_time_points)  ] \n",
    "                for j in range(n_clusters)],dtype=int)\n",
    "gamma = np.transpose(gamma,(1,0))\n",
    "\n",
    "y = X @ np.sum(gamma @ W_temp, axis=1)\n",
    "y = np.reshape(y, newshape=(n_samples, n_time_points, n_label_features))"
   ]
  },
  {
   "cell_type": "code",
   "execution_count": 79,
   "metadata": {},
   "outputs": [
    {
     "data": {
      "image/png": "[encoded data removed]",
      "text/plain": [
       "<Figure size 720x360 with 1 Axes>"
      ]
     },
     "metadata": {
      "needs_background": "light"
     },
     "output_type": "display_data"
    }
   ],
   "source": [
    "plt.figure(figsize=(10,5))\n",
    "plt.imshow(gamma.T,cmap='gray')\n",
    "plt.xlabel(\"Time\")\n",
    "plt.ylabel(\"Clusters\")\n",
    "plt.show()"
   ]
  },
  {
   "cell_type": "code",
   "execution_count": 87,
   "metadata": {},
   "outputs": [
    {
     "name": "stdout",
     "output_type": "stream",
     "text": [
      "Starting cluster decoder ... \n"
     ]
    },
    {
     "name": "stderr",
     "output_type": "stream",
     "text": [
      " 40%|████      | 4008/9999 [00:41<01:36, 62.20it/s] "
     ]
    }
   ],
   "source": [
    "print(f\"Starting cluster decoder ... \")\n",
    "clf = ClusterDecoder(n_clusters=n_clusters, method='sequential', max_iter=1e4)\n",
    "clf.fit(X,y) # renvoie gamma et W\n",
    "print('done\\n')\n"
   ]
  },
  {
   "cell_type": "code",
   "execution_count": 85,
   "metadata": {},
   "outputs": [
    {
     "data": {
      "image/png": "[encoded data removed]",
      "text/plain": [
       "<Figure size 720x360 with 1 Axes>"
      ]
     },
     "metadata": {
      "needs_background": "light"
     },
     "output_type": "display_data"
    }
   ],
   "source": [
    "plt.figure(figsize=(10,5))\n",
    "plt.imshow(clf.gamma_.T,cmap='gray')\n",
    "plt.xlabel(\"Time\")\n",
    "plt.ylabel(\"Clusters\")\n",
    "plt.show()"
   ]
  },
  {
   "cell_type": "code",
   "execution_count": 34,
   "metadata": {},
   "outputs": [
    {
     "name": "stdout",
     "output_type": "stream",
     "text": [
      "r2_score : -0.933649289099526\n",
      "mean_squared_error : 0.48284313725490197\n",
      "mean_absolute_percentage_error : 485682312755642.1\n"
     ]
    }
   ],
   "source": [
    "\n",
    "gamma_true = gamma.flatten()\n",
    "gamma_predict = clf.gamma_.flatten()\n",
    "print(f\"r2_score : {r2_score(gamma_true, gamma_predict)}\")\n",
    "print(f\"mean_squared_error : {mean_squared_error(gamma_true, gamma_predict)}\")    \n",
    "print(f\"mean_absolute_percentage_error : {mean_absolute_percentage_error(gamma_true, gamma_predict)}\")"
   ]
  },
  {
   "cell_type": "code",
   "execution_count": null,
   "metadata": {},
   "outputs": [],
   "source": []
  }
 ],
 "metadata": {
  "interpreter": {
   "hash": "439038ff3fc515b6a224825307eee453252cb828116fb19684a6def701c4e4f9"
  },
  "kernelspec": {
   "display_name": "Python 3.8.10 ('venv': venv)",
   "language": "python",
   "name": "python3"
  },
  "language_info": {
   "name": "python",
   "version": "3.8.10"
  },
  "orig_nbformat": 4
 },
 "nbformat": 4,
 "nbformat_minor": 2
}
